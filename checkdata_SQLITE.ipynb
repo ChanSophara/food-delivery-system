{
 "cells": [
  {
   "cell_type": "code",
   "execution_count": 1,
   "metadata": {},
   "outputs": [
    {
     "name": "stdout",
     "output_type": "stream",
     "text": [
      "Data in the database:\n",
      "ID: 1, Key: orderHistory, Value: [{\"date\":\"2025-03-17T00:53:19.128Z\",\"items\":[{\"name\":\"Burger cat\",\"price\":8,\"qty\":1,\"img\":\"img/food/b2.jpg\"}],\"total\":8},{\"date\":\"2025-03-17T00:54:34.542Z\",\"items\":[{\"name\":\"Pizza cat\",\"price\":8,\"qty\":2,\"img\":\"img/food/p2.jpg\"},{\"name\":\"Burger\",\"price\":8,\"qty\":1,\"img\":\"img/food/b1.jpg\"}],\"total\":24},{\"date\":\"2025-03-17T14:57:36.644Z\",\"items\":[{\"name\":\"បាយស្រូប\",\"price\":1.25,\"qty\":1,\"img\":\"img/food/f1.jpg\"},{\"name\":\"បាយម្រះព្រូវ\",\"price\":1.5,\"qty\":1,\"img\":\"img/food/f2.jpg\"},{\"name\":\"កាហ្វេ\",\"price\":1,\"qty\":1,\"img\":\"img/food/d1.jpg\"}],\"total\":3.75},{\"date\":\"2025-03-17T15:17:15.414Z\",\"items\":[{\"name\":\"បាយស្រូប\",\"price\":1.25,\"qty\":1,\"img\":\"img/food/f1.jpg\"},{\"name\":\"បាយម្រះព្រូវ\",\"price\":1.5,\"qty\":1,\"img\":\"img/food/f2.jpg\"},{\"name\":\"គុយទាវ\",\"price\":2.5,\"qty\":1,\"img\":\"img/food/s2.jpg\"},{\"name\":\"Milk Tea\",\"price\":2,\"qty\":1,\"img\":\"img/food/d2.jpg\"}],\"total\":7.25},{\"date\":\"2025-03-17T15:40:17.653Z\",\"items\":[{\"name\":\"បាយស្រូប\",\"price\":1.25,\"qty\":1,\"img\":\"img/food/f1.jpg\"},{\"name\":\"បាយម្រះព្រូវ\",\"price\":1.5,\"qty\":1,\"img\":\"img/food/f2.jpg\"},{\"name\":\"គុយទាវ\",\"price\":2.5,\"qty\":1,\"img\":\"img/food/s2.jpg\"},{\"name\":\"Milk Tea\",\"price\":2,\"qty\":1,\"img\":\"img/food/d2.jpg\"}],\"total\":7.25},{\"date\":\"2025-03-17T15:42:09.670Z\",\"items\":[{\"name\":\"បាយស្រូប\",\"price\":1.25,\"qty\":1,\"img\":\"img/food/f1.jpg\"},{\"name\":\"បាយម្រះព្រូវ\",\"price\":1.5,\"qty\":1,\"img\":\"img/food/f2.jpg\"},{\"name\":\"គុយទាវ\",\"price\":2.5,\"qty\":1,\"img\":\"img/food/s2.jpg\"},{\"name\":\"កាហ្វេ\",\"price\":1,\"qty\":1,\"img\":\"img/food/d1.jpg\"}],\"total\":6.25},{\"date\":\"2025-03-17T15:44:48.773Z\",\"items\":[{\"name\":\"បាយស្រូប\",\"price\":1.25,\"qty\":2,\"img\":\"img/food/f1.jpg\"},{\"name\":\"បាយម្រះព្រូវ\",\"price\":1.5,\"qty\":1,\"img\":\"img/food/f2.jpg\"},{\"name\":\"គុយទាវ\",\"price\":2.5,\"qty\":1,\"img\":\"img/food/s2.jpg\"}],\"total\":6.5},{\"date\":\"2025-03-17T16:07:00.898Z\",\"items\":[{\"name\":\"បាយស្រូប\",\"price\":1.25,\"qty\":1,\"img\":\"img/food/f1.jpg\"},{\"name\":\"បាយម្រះព្រូវ\",\"price\":1.5,\"qty\":1,\"img\":\"img/food/f2.jpg\"}],\"total\":2.75}]\n",
      "ID: 2, Key: orderHistory, Value: [{\"date\":\"2025-03-16T17:39:23.847Z\",\"items\":[{\"name\":\"Pizza\",\"price\":8,\"qty\":1,\"img\":\"img/food/p1.jpg\"},{\"name\":\"Sandwich\",\"price\":8,\"qty\":1,\"img\":\"img/food/s1.jpg\"},{\"name\":\"Pizza cat\",\"price\":8,\"qty\":1,\"img\":\"img/food/p2.jpg\"}],\"total\":24},{\"date\":\"2025-03-16T17:48:35.569Z\",\"items\":[{\"name\":\"Sandwich cat\",\"price\":8,\"qty\":2,\"img\":\"img/food/s2.jpg\"},{\"name\":\"Burger cat\",\"price\":8,\"qty\":1,\"img\":\"img/food/b2.jpg\"},{\"name\":\"Pizza cat\",\"price\":8,\"qty\":1,\"img\":\"img/food/p2.jpg\"}],\"total\":32},{\"date\":\"2025-03-17T14:22:19.351Z\",\"items\":[{\"name\":\"បាយម្រះព្រូវ\",\"price\":1.5,\"qty\":1,\"img\":\"img/food/f2.jpg\"},{\"name\":\"កាហ្វេ\",\"price\":1,\"qty\":2,\"img\":\"img/food/d1.jpg\"},{\"name\":\"Milk Tea\",\"price\":2,\"qty\":1,\"img\":\"img/food/d2.jpg\"}],\"total\":5.5},{\"date\":\"2025-03-17T15:54:10.863Z\",\"items\":[{\"name\":\"Sandwich\",\"price\":8,\"qty\":1,\"img\":\"img/food/s1.jpg\"},{\"name\":\"បាយស្រូប\",\"price\":1.25,\"qty\":2,\"img\":\"img/food/f1.jpg\"},{\"name\":\"ហ្វឺ\",\"price\":2.5,\"qty\":2,\"img\":\"img/food/s1.jpg\"},{\"name\":\"គុយទាវ\",\"price\":2.5,\"qty\":2,\"img\":\"img/food/s2.jpg\"},{\"name\":\"កាហ្វេ\",\"price\":1,\"qty\":1,\"img\":\"img/food/d1.jpg\"}],\"total\":21.5}]\n",
      "ID: 3, Key: orderHistory, Value: [{\"date\":\"2025-03-17T00:53:19.128Z\",\"items\":[{\"name\":\"Burger cat\",\"price\":8,\"qty\":1,\"img\":\"img/food/b2.jpg\"}],\"total\":8},{\"date\":\"2025-03-17T00:54:34.542Z\",\"items\":[{\"name\":\"Pizza cat\",\"price\":8,\"qty\":2,\"img\":\"img/food/p2.jpg\"},{\"name\":\"Burger\",\"price\":8,\"qty\":1,\"img\":\"img/food/b1.jpg\"}],\"total\":24},{\"date\":\"2025-03-17T14:57:36.644Z\",\"items\":[{\"name\":\"បាយស្រូប\",\"price\":1.25,\"qty\":1,\"img\":\"img/food/f1.jpg\"},{\"name\":\"បាយម្រះព្រូវ\",\"price\":1.5,\"qty\":1,\"img\":\"img/food/f2.jpg\"},{\"name\":\"កាហ្វេ\",\"price\":1,\"qty\":1,\"img\":\"img/food/d1.jpg\"}],\"total\":3.75},{\"date\":\"2025-03-17T15:17:15.414Z\",\"items\":[{\"name\":\"បាយស្រូប\",\"price\":1.25,\"qty\":1,\"img\":\"img/food/f1.jpg\"},{\"name\":\"បាយម្រះព្រូវ\",\"price\":1.5,\"qty\":1,\"img\":\"img/food/f2.jpg\"},{\"name\":\"គុយទាវ\",\"price\":2.5,\"qty\":1,\"img\":\"img/food/s2.jpg\"},{\"name\":\"Milk Tea\",\"price\":2,\"qty\":1,\"img\":\"img/food/d2.jpg\"}],\"total\":7.25},{\"date\":\"2025-03-17T15:40:17.653Z\",\"items\":[{\"name\":\"បាយស្រូប\",\"price\":1.25,\"qty\":1,\"img\":\"img/food/f1.jpg\"},{\"name\":\"បាយម្រះព្រូវ\",\"price\":1.5,\"qty\":1,\"img\":\"img/food/f2.jpg\"},{\"name\":\"គុយទាវ\",\"price\":2.5,\"qty\":1,\"img\":\"img/food/s2.jpg\"},{\"name\":\"Milk Tea\",\"price\":2,\"qty\":1,\"img\":\"img/food/d2.jpg\"}],\"total\":7.25},{\"date\":\"2025-03-17T15:42:09.670Z\",\"items\":[{\"name\":\"បាយស្រូប\",\"price\":1.25,\"qty\":1,\"img\":\"img/food/f1.jpg\"},{\"name\":\"បាយម្រះព្រូវ\",\"price\":1.5,\"qty\":1,\"img\":\"img/food/f2.jpg\"},{\"name\":\"គុយទាវ\",\"price\":2.5,\"qty\":1,\"img\":\"img/food/s2.jpg\"},{\"name\":\"កាហ្វេ\",\"price\":1,\"qty\":1,\"img\":\"img/food/d1.jpg\"}],\"total\":6.25},{\"date\":\"2025-03-17T15:44:48.773Z\",\"items\":[{\"name\":\"បាយស្រូប\",\"price\":1.25,\"qty\":2,\"img\":\"img/food/f1.jpg\"},{\"name\":\"បាយម្រះព្រូវ\",\"price\":1.5,\"qty\":1,\"img\":\"img/food/f2.jpg\"},{\"name\":\"គុយទាវ\",\"price\":2.5,\"qty\":1,\"img\":\"img/food/s2.jpg\"}],\"total\":6.5},{\"date\":\"2025-03-17T16:07:00.898Z\",\"items\":[{\"name\":\"បាយស្រូប\",\"price\":1.25,\"qty\":1,\"img\":\"img/food/f1.jpg\"},{\"name\":\"បាយម្រះព្រូវ\",\"price\":1.5,\"qty\":1,\"img\":\"img/food/f2.jpg\"}],\"total\":2.75},{\"date\":\"2025-03-17T16:09:14.325Z\",\"items\":[{\"name\":\"បាយស្រូប\",\"price\":1.25,\"qty\":1,\"img\":\"img/food/f1.jpg\"},{\"name\":\"បាយម្រះព្រូវ\",\"price\":1.5,\"qty\":1,\"img\":\"img/food/f2.jpg\"},{\"name\":\"កាហ្វេ\",\"price\":1,\"qty\":1,\"img\":\"img/food/d1.jpg\"}],\"total\":3.75}]\n",
      "ID: 4, Key: orderHistory, Value: [{\"date\":\"2025-03-17T00:53:19.128Z\",\"items\":[{\"name\":\"Burger cat\",\"price\":8,\"qty\":1,\"img\":\"img/food/b2.jpg\"}],\"total\":8},{\"date\":\"2025-03-17T00:54:34.542Z\",\"items\":[{\"name\":\"Pizza cat\",\"price\":8,\"qty\":2,\"img\":\"img/food/p2.jpg\"},{\"name\":\"Burger\",\"price\":8,\"qty\":1,\"img\":\"img/food/b1.jpg\"}],\"total\":24},{\"date\":\"2025-03-17T14:57:36.644Z\",\"items\":[{\"name\":\"បាយស្រូប\",\"price\":1.25,\"qty\":1,\"img\":\"img/food/f1.jpg\"},{\"name\":\"បាយម្រះព្រូវ\",\"price\":1.5,\"qty\":1,\"img\":\"img/food/f2.jpg\"},{\"name\":\"កាហ្វេ\",\"price\":1,\"qty\":1,\"img\":\"img/food/d1.jpg\"}],\"total\":3.75},{\"date\":\"2025-03-17T15:17:15.414Z\",\"items\":[{\"name\":\"បាយស្រូប\",\"price\":1.25,\"qty\":1,\"img\":\"img/food/f1.jpg\"},{\"name\":\"បាយម្រះព្រូវ\",\"price\":1.5,\"qty\":1,\"img\":\"img/food/f2.jpg\"},{\"name\":\"គុយទាវ\",\"price\":2.5,\"qty\":1,\"img\":\"img/food/s2.jpg\"},{\"name\":\"Milk Tea\",\"price\":2,\"qty\":1,\"img\":\"img/food/d2.jpg\"}],\"total\":7.25},{\"date\":\"2025-03-17T15:40:17.653Z\",\"items\":[{\"name\":\"បាយស្រូប\",\"price\":1.25,\"qty\":1,\"img\":\"img/food/f1.jpg\"},{\"name\":\"បាយម្រះព្រូវ\",\"price\":1.5,\"qty\":1,\"img\":\"img/food/f2.jpg\"},{\"name\":\"គុយទាវ\",\"price\":2.5,\"qty\":1,\"img\":\"img/food/s2.jpg\"},{\"name\":\"Milk Tea\",\"price\":2,\"qty\":1,\"img\":\"img/food/d2.jpg\"}],\"total\":7.25},{\"date\":\"2025-03-17T15:42:09.670Z\",\"items\":[{\"name\":\"បាយស្រូប\",\"price\":1.25,\"qty\":1,\"img\":\"img/food/f1.jpg\"},{\"name\":\"បាយម្រះព្រូវ\",\"price\":1.5,\"qty\":1,\"img\":\"img/food/f2.jpg\"},{\"name\":\"គុយទាវ\",\"price\":2.5,\"qty\":1,\"img\":\"img/food/s2.jpg\"},{\"name\":\"កាហ្វេ\",\"price\":1,\"qty\":1,\"img\":\"img/food/d1.jpg\"}],\"total\":6.25},{\"date\":\"2025-03-17T15:44:48.773Z\",\"items\":[{\"name\":\"បាយស្រូប\",\"price\":1.25,\"qty\":2,\"img\":\"img/food/f1.jpg\"},{\"name\":\"បាយម្រះព្រូវ\",\"price\":1.5,\"qty\":1,\"img\":\"img/food/f2.jpg\"},{\"name\":\"គុយទាវ\",\"price\":2.5,\"qty\":1,\"img\":\"img/food/s2.jpg\"}],\"total\":6.5},{\"date\":\"2025-03-17T16:07:00.898Z\",\"items\":[{\"name\":\"បាយស្រូប\",\"price\":1.25,\"qty\":1,\"img\":\"img/food/f1.jpg\"},{\"name\":\"បាយម្រះព្រូវ\",\"price\":1.5,\"qty\":1,\"img\":\"img/food/f2.jpg\"}],\"total\":2.75},{\"date\":\"2025-03-17T16:09:14.325Z\",\"items\":[{\"name\":\"បាយស្រូប\",\"price\":1.25,\"qty\":1,\"img\":\"img/food/f1.jpg\"},{\"name\":\"បាយម្រះព្រូវ\",\"price\":1.5,\"qty\":1,\"img\":\"img/food/f2.jpg\"},{\"name\":\"កាហ្វេ\",\"price\":1,\"qty\":1,\"img\":\"img/food/d1.jpg\"}],\"total\":3.75},{\"date\":\"2025-03-17T17:16:03.578Z\",\"items\":[{\"name\":\"បាយស្រូប\",\"price\":1.25,\"qty\":1,\"img\":\"img/food/f1.jpg\"},{\"name\":\"បាយម្រះព្រូវ\",\"price\":1.5,\"qty\":1,\"img\":\"img/food/f2.jpg\"},{\"name\":\"គុយទាវ\",\"price\":2.5,\"qty\":1,\"img\":\"img/food/s2.jpg\"},{\"name\":\"ហ្វឺ\",\"price\":2.5,\"qty\":1,\"img\":\"img/food/s1.jpg\"}],\"total\":7.75},{\"date\":\"2025-03-18T07:50:19.342Z\",\"items\":[{\"name\":\"បាយស្រូប\",\"price\":1.25,\"qty\":1,\"img\":\"img/food/f1.jpg\"},{\"name\":\"បាយម្រះព្រូវ\",\"price\":1.5,\"qty\":1,\"img\":\"img/food/f2.jpg\"},{\"name\":\"ហ្វឺ\",\"price\":2.5,\"qty\":1,\"img\":\"img/food/s1.jpg\"},{\"name\":\"កាហ្វេ\",\"price\":1,\"qty\":1,\"img\":\"img/food/d1.jpg\"}],\"total\":6.25}]\n"
     ]
    }
   ],
   "source": [
    "import sqlite3\n",
    "\n",
    "# Connect to the SQLite database\n",
    "def check_database():\n",
    "    try:\n",
    "        # Connect to the database\n",
    "        conn = sqlite3.connect(\"local_storage.db\")\n",
    "        cursor = conn.cursor()\n",
    "\n",
    "        # Query all rows from the 'storage' table\n",
    "        cursor.execute(\"SELECT * FROM storage\")\n",
    "        rows = cursor.fetchall()\n",
    "\n",
    "        # Print the rows\n",
    "        if rows:\n",
    "            print(\"Data in the database:\")\n",
    "            for row in rows:\n",
    "                id, key, value = row\n",
    "                print(f\"ID: {id}, Key: {key}, Value: {value}\")\n",
    "        else:\n",
    "            print(\"No data found in the database.\")\n",
    "\n",
    "        # Close the connection\n",
    "        conn.close()\n",
    "    except Exception as e:\n",
    "        print(f\"Error checking database: {e}\")\n",
    "\n",
    "# Run the function to check the database\n",
    "check_database()"
   ]
  }
 ],
 "metadata": {
  "kernelspec": {
   "display_name": "Python 3",
   "language": "python",
   "name": "python3"
  },
  "language_info": {
   "codemirror_mode": {
    "name": "ipython",
    "version": 3
   },
   "file_extension": ".py",
   "mimetype": "text/x-python",
   "name": "python",
   "nbconvert_exporter": "python",
   "pygments_lexer": "ipython3",
   "version": "3.11.5"
  }
 },
 "nbformat": 4,
 "nbformat_minor": 2
}
